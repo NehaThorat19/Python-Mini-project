{
 "cells": [
  {
   "cell_type": "code",
   "execution_count": 1,
   "id": "0348853f",
   "metadata": {},
   "outputs": [],
   "source": [
    "import random\n",
    "import string\n",
    "d= dict()\n",
    "\n",
    "def shortURL(longURL):\n",
    "    #generating length randomly from 6- 10\n",
    "    l = random.randint(6,10)\n",
    "    \n",
    "    #generating characters randomly from a- z (lowercase)\n",
    "    alpha = string.ascii_lowercase\n",
    "    a=''\n",
    "    shortURL =[]\n",
    "    \n",
    "    for i in range(0,l):\n",
    "        a = random.choice(alpha)     #sampling with replacement\n",
    "        shortURL.append(a)\n",
    "    shortURL = \"\".join(shortURL)\n",
    "        #check if this string is already present in dictionary d\n",
    "    if shortURL not in d:\n",
    "        d[shortURL] = longURL\n",
    "    else:\n",
    "        return shortURL(longURL)\n",
    "            \n",
    "        \n",
    "    r = \"http://www.shortURL.com/\"+ shortURL\n",
    "    return r\n",
    "\n",
    "def longURL(shortURL):\n",
    "    k = shortURL[25:]\n",
    "    if k in d:\n",
    "        return d[k]\n",
    "    else:\n",
    "        return None"
   ]
  },
  {
   "cell_type": "code",
   "execution_count": 2,
   "id": "fe782064",
   "metadata": {},
   "outputs": [
    {
     "data": {
      "text/plain": [
       "'http://www.shortURL.com/uqydfowjbr'"
      ]
     },
     "execution_count": 2,
     "metadata": {},
     "output_type": "execute_result"
    }
   ],
   "source": [
    "shortURL(\"http://www.tutorialspoint.com/cprogramming/c_strings.htm\")"
   ]
  },
  {
   "cell_type": "code",
   "execution_count": 3,
   "id": "bd924d7e",
   "metadata": {},
   "outputs": [
    {
     "name": "stdout",
     "output_type": "stream",
     "text": [
      "{'uqydfowjbr': 'http://www.tutorialspoint.com/cprogramming/c_strings.htm'}\n"
     ]
    }
   ],
   "source": [
    "print(d)"
   ]
  },
  {
   "cell_type": "code",
   "execution_count": null,
   "id": "935a5a64",
   "metadata": {},
   "outputs": [],
   "source": []
  }
 ],
 "metadata": {
  "kernelspec": {
   "display_name": "Python 3 (ipykernel)",
   "language": "python",
   "name": "python3"
  },
  "language_info": {
   "codemirror_mode": {
    "name": "ipython",
    "version": 3
   },
   "file_extension": ".py",
   "mimetype": "text/x-python",
   "name": "python",
   "nbconvert_exporter": "python",
   "pygments_lexer": "ipython3",
   "version": "3.9.7"
  }
 },
 "nbformat": 4,
 "nbformat_minor": 5
}
